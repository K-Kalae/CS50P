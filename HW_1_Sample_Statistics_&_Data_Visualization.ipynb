{
  "nbformat": 4,
  "nbformat_minor": 0,
  "metadata": {
    "colab": {
      "provenance": [],
      "include_colab_link": true
    },
    "kernelspec": {
      "name": "python3",
      "display_name": "Python 3"
    },
    "language_info": {
      "name": "python"
    }
  },
  "cells": [
    {
      "cell_type": "markdown",
      "metadata": {
        "id": "view-in-github",
        "colab_type": "text"
      },
      "source": [
        "<a href=\"https://colab.research.google.com/github/K-Kalae/CS50P/blob/main/HW_1_Sample_Statistics_%26_Data_Visualization.ipynb\" target=\"_parent\"><img src=\"https://colab.research.google.com/assets/colab-badge.svg\" alt=\"Open In Colab\"/></a>"
      ]
    },
    {
      "cell_type": "markdown",
      "source": [
        "# HW 1 - Sample Statistics & Data Visualization"
      ],
      "metadata": {
        "id": "sJUVg7cZB9u_"
      }
    },
    {
      "cell_type": "markdown",
      "source": [
        "## Deliverables\n",
        "\n",
        "- Link to google colab notebook\n",
        "    > Instructions:\n",
        "    Click the **share** button in the upper right hand corner and select '**Anyone with the link**'  under the **general restriction** section."
      ],
      "metadata": {
        "id": "FYE0AdNbctnj"
      }
    },
    {
      "cell_type": "markdown",
      "source": [
        "## Dataset Description & Info"
      ],
      "metadata": {
        "id": "TDQDnyfBC5It"
      }
    },
    {
      "cell_type": "markdown",
      "source": [
        "Our dataset includes a sample of over 40,000 crashes in Tri-County Florida (Miami-Dade, Broward, Palm Beach) for the year 2020. It has over 150 columns (or fields) that provide us the data from each crash report. Many of the columns have coded data which means each number represents a distinct category, you can find the full list of fields and their codes here: [Fields & Codes](https://gis.fdot.gov/ssogis/docs/MapCodeTableDefinitions.xlsx)\n",
        "\n",
        "How to access dataset file:\n",
        "- Download the CSV file from canvas [here](https://canvas.fau.edu/files/32090294/download?download_frd=1).\n",
        "- Raw CSV data link [here](https://raw.githubusercontent.com/cam-alvarez/Personal-Portfolio-and-Blog/main/public/2020-tristatecounty-crashdata.csv).\n",
        "\n",
        "Instructions on how to load dataset via either of these two methods are in the next section."
      ],
      "metadata": {
        "id": "6wttRZbPDEZn"
      }
    },
    {
      "cell_type": "markdown",
      "source": [
        "## Load Dataset and Libraries"
      ],
      "metadata": {
        "id": "tnMaIh7lBvAz"
      }
    },
    {
      "cell_type": "code",
      "source": [
        "# Import necessary libraries\n",
        "import pandas as pd\n",
        "import matplotlib.pyplot as plt\n",
        "import seaborn as sns\n",
        "import numpy as np"
      ],
      "metadata": {
        "id": "sEBSRvoGEu0X"
      },
      "execution_count": 2,
      "outputs": []
    },
    {
      "cell_type": "markdown",
      "source": [
        "### Loading CSV File"
      ],
      "metadata": {
        "id": "itaqDsPNDxxd"
      }
    },
    {
      "cell_type": "code",
      "source": [
        "# Import necessary libraries for upload and dataframe conversion\n",
        "from google.colab import files\n",
        "import io\n",
        "\n",
        "# Run and select file to upload\n",
        "file = files.upload()"
      ],
      "metadata": {
        "id": "3dPd3Ht5BBPd",
        "colab": {
          "base_uri": "https://localhost:8080/",
          "height": 73
        },
        "outputId": "26e1f28a-fcc8-4e6b-f73d-c13d6833fd2e"
      },
      "execution_count": 5,
      "outputs": [
        {
          "output_type": "display_data",
          "data": {
            "text/plain": [
              "<IPython.core.display.HTML object>"
            ],
            "text/html": [
              "\n",
              "     <input type=\"file\" id=\"files-540a5846-5cc3-4b5b-a9cb-95e6fbab9bc0\" name=\"files[]\" multiple disabled\n",
              "        style=\"border:none\" />\n",
              "     <output id=\"result-540a5846-5cc3-4b5b-a9cb-95e6fbab9bc0\">\n",
              "      Upload widget is only available when the cell has been executed in the\n",
              "      current browser session. Please rerun this cell to enable.\n",
              "      </output>\n",
              "      <script>// Copyright 2017 Google LLC\n",
              "//\n",
              "// Licensed under the Apache License, Version 2.0 (the \"License\");\n",
              "// you may not use this file except in compliance with the License.\n",
              "// You may obtain a copy of the License at\n",
              "//\n",
              "//      http://www.apache.org/licenses/LICENSE-2.0\n",
              "//\n",
              "// Unless required by applicable law or agreed to in writing, software\n",
              "// distributed under the License is distributed on an \"AS IS\" BASIS,\n",
              "// WITHOUT WARRANTIES OR CONDITIONS OF ANY KIND, either express or implied.\n",
              "// See the License for the specific language governing permissions and\n",
              "// limitations under the License.\n",
              "\n",
              "/**\n",
              " * @fileoverview Helpers for google.colab Python module.\n",
              " */\n",
              "(function(scope) {\n",
              "function span(text, styleAttributes = {}) {\n",
              "  const element = document.createElement('span');\n",
              "  element.textContent = text;\n",
              "  for (const key of Object.keys(styleAttributes)) {\n",
              "    element.style[key] = styleAttributes[key];\n",
              "  }\n",
              "  return element;\n",
              "}\n",
              "\n",
              "// Max number of bytes which will be uploaded at a time.\n",
              "const MAX_PAYLOAD_SIZE = 100 * 1024;\n",
              "\n",
              "function _uploadFiles(inputId, outputId) {\n",
              "  const steps = uploadFilesStep(inputId, outputId);\n",
              "  const outputElement = document.getElementById(outputId);\n",
              "  // Cache steps on the outputElement to make it available for the next call\n",
              "  // to uploadFilesContinue from Python.\n",
              "  outputElement.steps = steps;\n",
              "\n",
              "  return _uploadFilesContinue(outputId);\n",
              "}\n",
              "\n",
              "// This is roughly an async generator (not supported in the browser yet),\n",
              "// where there are multiple asynchronous steps and the Python side is going\n",
              "// to poll for completion of each step.\n",
              "// This uses a Promise to block the python side on completion of each step,\n",
              "// then passes the result of the previous step as the input to the next step.\n",
              "function _uploadFilesContinue(outputId) {\n",
              "  const outputElement = document.getElementById(outputId);\n",
              "  const steps = outputElement.steps;\n",
              "\n",
              "  const next = steps.next(outputElement.lastPromiseValue);\n",
              "  return Promise.resolve(next.value.promise).then((value) => {\n",
              "    // Cache the last promise value to make it available to the next\n",
              "    // step of the generator.\n",
              "    outputElement.lastPromiseValue = value;\n",
              "    return next.value.response;\n",
              "  });\n",
              "}\n",
              "\n",
              "/**\n",
              " * Generator function which is called between each async step of the upload\n",
              " * process.\n",
              " * @param {string} inputId Element ID of the input file picker element.\n",
              " * @param {string} outputId Element ID of the output display.\n",
              " * @return {!Iterable<!Object>} Iterable of next steps.\n",
              " */\n",
              "function* uploadFilesStep(inputId, outputId) {\n",
              "  const inputElement = document.getElementById(inputId);\n",
              "  inputElement.disabled = false;\n",
              "\n",
              "  const outputElement = document.getElementById(outputId);\n",
              "  outputElement.innerHTML = '';\n",
              "\n",
              "  const pickedPromise = new Promise((resolve) => {\n",
              "    inputElement.addEventListener('change', (e) => {\n",
              "      resolve(e.target.files);\n",
              "    });\n",
              "  });\n",
              "\n",
              "  const cancel = document.createElement('button');\n",
              "  inputElement.parentElement.appendChild(cancel);\n",
              "  cancel.textContent = 'Cancel upload';\n",
              "  const cancelPromise = new Promise((resolve) => {\n",
              "    cancel.onclick = () => {\n",
              "      resolve(null);\n",
              "    };\n",
              "  });\n",
              "\n",
              "  // Wait for the user to pick the files.\n",
              "  const files = yield {\n",
              "    promise: Promise.race([pickedPromise, cancelPromise]),\n",
              "    response: {\n",
              "      action: 'starting',\n",
              "    }\n",
              "  };\n",
              "\n",
              "  cancel.remove();\n",
              "\n",
              "  // Disable the input element since further picks are not allowed.\n",
              "  inputElement.disabled = true;\n",
              "\n",
              "  if (!files) {\n",
              "    return {\n",
              "      response: {\n",
              "        action: 'complete',\n",
              "      }\n",
              "    };\n",
              "  }\n",
              "\n",
              "  for (const file of files) {\n",
              "    const li = document.createElement('li');\n",
              "    li.append(span(file.name, {fontWeight: 'bold'}));\n",
              "    li.append(span(\n",
              "        `(${file.type || 'n/a'}) - ${file.size} bytes, ` +\n",
              "        `last modified: ${\n",
              "            file.lastModifiedDate ? file.lastModifiedDate.toLocaleDateString() :\n",
              "                                    'n/a'} - `));\n",
              "    const percent = span('0% done');\n",
              "    li.appendChild(percent);\n",
              "\n",
              "    outputElement.appendChild(li);\n",
              "\n",
              "    const fileDataPromise = new Promise((resolve) => {\n",
              "      const reader = new FileReader();\n",
              "      reader.onload = (e) => {\n",
              "        resolve(e.target.result);\n",
              "      };\n",
              "      reader.readAsArrayBuffer(file);\n",
              "    });\n",
              "    // Wait for the data to be ready.\n",
              "    let fileData = yield {\n",
              "      promise: fileDataPromise,\n",
              "      response: {\n",
              "        action: 'continue',\n",
              "      }\n",
              "    };\n",
              "\n",
              "    // Use a chunked sending to avoid message size limits. See b/62115660.\n",
              "    let position = 0;\n",
              "    do {\n",
              "      const length = Math.min(fileData.byteLength - position, MAX_PAYLOAD_SIZE);\n",
              "      const chunk = new Uint8Array(fileData, position, length);\n",
              "      position += length;\n",
              "\n",
              "      const base64 = btoa(String.fromCharCode.apply(null, chunk));\n",
              "      yield {\n",
              "        response: {\n",
              "          action: 'append',\n",
              "          file: file.name,\n",
              "          data: base64,\n",
              "        },\n",
              "      };\n",
              "\n",
              "      let percentDone = fileData.byteLength === 0 ?\n",
              "          100 :\n",
              "          Math.round((position / fileData.byteLength) * 100);\n",
              "      percent.textContent = `${percentDone}% done`;\n",
              "\n",
              "    } while (position < fileData.byteLength);\n",
              "  }\n",
              "\n",
              "  // All done.\n",
              "  yield {\n",
              "    response: {\n",
              "      action: 'complete',\n",
              "    }\n",
              "  };\n",
              "}\n",
              "\n",
              "scope.google = scope.google || {};\n",
              "scope.google.colab = scope.google.colab || {};\n",
              "scope.google.colab._files = {\n",
              "  _uploadFiles,\n",
              "  _uploadFilesContinue,\n",
              "};\n",
              "})(self);\n",
              "</script> "
            ]
          },
          "metadata": {}
        },
        {
          "output_type": "stream",
          "name": "stdout",
          "text": [
            "Saving 2020-tristatecounty-crashdata.csv to 2020-tristatecounty-crashdata.csv\n"
          ]
        }
      ]
    },
    {
      "cell_type": "code",
      "source": [
        "# Covert to dataframe object\n",
        "df1 = pd.read_csv(io.BytesIO(file['2020-tristatecounty-crashdata.csv']))"
      ],
      "metadata": {
        "id": "KUyho_cBGzCM",
        "colab": {
          "base_uri": "https://localhost:8080/"
        },
        "outputId": "bcd1446d-8394-4ff3-e7a8-8ba1321fce6d"
      },
      "execution_count": 6,
      "outputs": [
        {
          "output_type": "stream",
          "name": "stderr",
          "text": [
            "<ipython-input-6-84379052bf62>:2: DtypeWarning: Columns (25,152) have mixed types. Specify dtype option on import or set low_memory=False.\n",
            "  df1 = pd.read_csv(io.BytesIO(file['2020-tristatecounty-crashdata.csv']))\n"
          ]
        }
      ]
    },
    {
      "cell_type": "code",
      "source": [
        "# Fixing warning by reloading our dataset with low_memory parameter set to false\n",
        "df1 = pd.read_csv('2020-tristatecounty-crashdata.csv', low_memory=False)"
      ],
      "metadata": {
        "id": "NshjkRH4Hs4b"
      },
      "execution_count": 7,
      "outputs": []
    },
    {
      "cell_type": "code",
      "source": [
        "# Checking upload by displaying the first few rows of the dataframe\n",
        "print(df1.head())"
      ],
      "metadata": {
        "id": "5Hhr7ByeIfZk",
        "colab": {
          "base_uri": "https://localhost:8080/"
        },
        "outputId": "595c938a-285c-4a54-80e2-a5f16f2bb2cf"
      },
      "execution_count": 8,
      "outputs": [
        {
          "output_type": "stream",
          "name": "stdout",
          "text": [
            "   OBJECTID            XID  CALENDAR_YEAR  CRASH_NUMBER     CASE_NUMBER  \\\n",
            "0     46260  2020240008560           2020     240008560  SW200418002763   \n",
            "1     46262  2020240009300           2020     240009300  SW200623004004   \n",
            "2     46263  2020240008950           2020     240008950  SW200526003407   \n",
            "3     46264  2020240009370           2020     240009370  SW200627004094   \n",
            "4     46265  2020240009390           2020     240009390  SW200630004129   \n",
            "\n",
            "   INVSTGT_AGCY_CD          AGENCY_TYPE_TXT  DOT_GEOG_DIST_CD  DOT_CNTY_CD  \\\n",
            "0                2  COUNTY SHERIFF'S OFFICE                 6           87   \n",
            "1                2  COUNTY SHERIFF'S OFFICE                 6           87   \n",
            "2                2  COUNTY SHERIFF'S OFFICE                 6           87   \n",
            "3                2  COUNTY SHERIFF'S OFFICE                 6           87   \n",
            "4                2  COUNTY SHERIFF'S OFFICE                 6           87   \n",
            "\n",
            "   COUNTY_TXT  ... DST_TOXTRMNODB_NUM   LATITUDE  LONGITUDE   X_COORDINATE  \\\n",
            "0  MIAMI-DADE  ...              0.000  25.768485 -80.369050  563268.029378   \n",
            "1  MIAMI-DADE  ...              0.000  25.772765 -80.377372  562431.326832   \n",
            "2  MIAMI-DADE  ...             30.000  25.764033 -80.370621  563112.833830   \n",
            "3  MIAMI-DADE  ...            175.221  25.769046 -80.377067  562463.816656   \n",
            "4  MIAMI-DADE  ...            461.305  25.796869 -80.383180  561836.398308   \n",
            "\n",
            "   Y_COORDINATE  ARBM_ROADSIDE GEO_URBAN_RURAL_IND  MAP_SOURCE   EXTRACT_DATE  \\\n",
            "0  2.850197e+06              L                 NaN  ARBM15Q1R2  1686446352000   \n",
            "1  2.850667e+06              C                   U  ARBM15Q1R2  1686446352000   \n",
            "2  2.849703e+06              C                   U  ARBM15Q1R2  1686446352000   \n",
            "3  2.850255e+06              C                   U  ARBM15Q1R2  1686446352000   \n",
            "4  2.853334e+06              C                   U  ARBM15Q1R2  1686446352000   \n",
            "\n",
            "   ARBM_ROAD_STATUS  \n",
            "0               NaN  \n",
            "1               NaN  \n",
            "2               NaN  \n",
            "3               NaN  \n",
            "4               NaN  \n",
            "\n",
            "[5 rows x 156 columns]\n"
          ]
        }
      ]
    },
    {
      "cell_type": "markdown",
      "source": [
        "### Loading Raw CSV Data from Link"
      ],
      "metadata": {
        "id": "orCEOqHvEDmE"
      }
    },
    {
      "cell_type": "code",
      "source": [
        "# URL to the CSV file\n",
        "url = 'https://raw.githubusercontent.com/cam-alvarez/Personal-Portfolio-and-Blog/main/public/2020-tristatecounty-crashdata.csv'\n",
        "\n",
        "# Read the CSV file from the URL\n",
        "df2 = pd.read_csv(url)"
      ],
      "metadata": {
        "id": "5tGbqUNcGPWH",
        "colab": {
          "base_uri": "https://localhost:8080/"
        },
        "outputId": "f8258486-d294-4254-dc73-a2673a98ee32"
      },
      "execution_count": 9,
      "outputs": [
        {
          "output_type": "stream",
          "name": "stderr",
          "text": [
            "<ipython-input-9-8a268b89ff56>:5: DtypeWarning: Columns (25,152) have mixed types. Specify dtype option on import or set low_memory=False.\n",
            "  df2 = pd.read_csv(url)\n"
          ]
        }
      ]
    },
    {
      "cell_type": "code",
      "source": [
        "# Fixing warning by reloading our dataset with low_memory parameter set to false\n",
        "df2 = pd.read_csv(url, low_memory=False)"
      ],
      "metadata": {
        "id": "N6sOuqEUIQ7G"
      },
      "execution_count": 10,
      "outputs": []
    },
    {
      "cell_type": "code",
      "source": [
        "# Checking upload by displaying the first few rows of the dataframe\n",
        "print(df2.head())"
      ],
      "metadata": {
        "id": "TtH2w6FfIcva",
        "colab": {
          "base_uri": "https://localhost:8080/"
        },
        "outputId": "4e83c9f6-0d43-4378-cbd9-c70989f25dc3"
      },
      "execution_count": 11,
      "outputs": [
        {
          "output_type": "stream",
          "name": "stdout",
          "text": [
            "   OBJECTID            XID  CALENDAR_YEAR  CRASH_NUMBER     CASE_NUMBER  \\\n",
            "0     46260  2020240008560           2020     240008560  SW200418002763   \n",
            "1     46262  2020240009300           2020     240009300  SW200623004004   \n",
            "2     46263  2020240008950           2020     240008950  SW200526003407   \n",
            "3     46264  2020240009370           2020     240009370  SW200627004094   \n",
            "4     46265  2020240009390           2020     240009390  SW200630004129   \n",
            "\n",
            "   INVSTGT_AGCY_CD          AGENCY_TYPE_TXT  DOT_GEOG_DIST_CD  DOT_CNTY_CD  \\\n",
            "0                2  COUNTY SHERIFF'S OFFICE                 6           87   \n",
            "1                2  COUNTY SHERIFF'S OFFICE                 6           87   \n",
            "2                2  COUNTY SHERIFF'S OFFICE                 6           87   \n",
            "3                2  COUNTY SHERIFF'S OFFICE                 6           87   \n",
            "4                2  COUNTY SHERIFF'S OFFICE                 6           87   \n",
            "\n",
            "   COUNTY_TXT  ... DST_TOXTRMNODB_NUM   LATITUDE  LONGITUDE   X_COORDINATE  \\\n",
            "0  MIAMI-DADE  ...              0.000  25.768485 -80.369050  563268.029378   \n",
            "1  MIAMI-DADE  ...              0.000  25.772765 -80.377372  562431.326832   \n",
            "2  MIAMI-DADE  ...             30.000  25.764033 -80.370621  563112.833830   \n",
            "3  MIAMI-DADE  ...            175.221  25.769046 -80.377067  562463.816656   \n",
            "4  MIAMI-DADE  ...            461.305  25.796869 -80.383180  561836.398308   \n",
            "\n",
            "   Y_COORDINATE  ARBM_ROADSIDE GEO_URBAN_RURAL_IND  MAP_SOURCE   EXTRACT_DATE  \\\n",
            "0  2.850197e+06              L                 NaN  ARBM15Q1R2  1686446352000   \n",
            "1  2.850667e+06              C                   U  ARBM15Q1R2  1686446352000   \n",
            "2  2.849703e+06              C                   U  ARBM15Q1R2  1686446352000   \n",
            "3  2.850255e+06              C                   U  ARBM15Q1R2  1686446352000   \n",
            "4  2.853334e+06              C                   U  ARBM15Q1R2  1686446352000   \n",
            "\n",
            "   ARBM_ROAD_STATUS  \n",
            "0               NaN  \n",
            "1               NaN  \n",
            "2               NaN  \n",
            "3               NaN  \n",
            "4               NaN  \n",
            "\n",
            "[5 rows x 156 columns]\n"
          ]
        }
      ]
    },
    {
      "cell_type": "markdown",
      "source": [
        "# Question 1\n",
        "\n",
        "To start our investigation of this dataset, it would be useful to know some basic numbers on the frequency of crashes on the overall dataset and between counties. Doing so may point towards certain trends we might want to investigate further. We will start by creating histograms of the number of crashes per month over our entire dataset and then by county. We will then calculate some sample statistics on the number of crashes per month. Afterward, we will summarize our findings.\n",
        "\n",
        "```\n",
        "Fields:\n",
        "  - Month (MONTH)\n",
        "  - County (COUNTY_TXT)\n",
        "```\n",
        "\n",
        "1(a): Histogram of overall number of crashes per month\n",
        "\n",
        "1(b): Calculate the mean, median, quartiles, and standard deviation for the number of crashes per month of the overall dataset.\n",
        "\n",
        "1(c): Histograms of overall number of crashes per month by county.\n",
        "\n",
        "1(d): Calculate the mean, median, quartiles, and standard deviation for the number of crashes per month for each county.\n",
        "\n",
        "1(e): Report your findings and conclusions based on the histograms and calculated sample statistics."
      ],
      "metadata": {
        "id": "57FJcWWzW2Ul"
      }
    },
    {
      "cell_type": "markdown",
      "source": [
        "## Answers & Code"
      ],
      "metadata": {
        "id": "eNPjo4v6aLHn"
      }
    },
    {
      "cell_type": "markdown",
      "source": [
        "### 1(a): Histogram of overall number of crashes per month"
      ],
      "metadata": {
        "id": "glM5x-yZaQkp"
      }
    },
    {
      "cell_type": "code",
      "source": [
        "df1[\"CRASH_DATE\"] = pd.to_datetime(df1[\"CRASH_DATE\"])\n",
        "# Extract the month and create a new column\n",
        "df1['month'] = df1['CRASH_DATE'].dt.month\n",
        "# Display the DataFrame with the new 'month' column\n",
        "print(df1['month'].head())\n",
        "\n",
        "# Plot the histogram\n",
        "plt.hist(df1[\"month\"])"
      ],
      "metadata": {
        "id": "CiuAaTodaP90",
        "colab": {
          "base_uri": "https://localhost:8080/",
          "height": 604
        },
        "outputId": "4aa85822-c593-429e-a8ec-a2955afe5a2e"
      },
      "execution_count": 12,
      "outputs": [
        {
          "output_type": "stream",
          "name": "stdout",
          "text": [
            "0    4\n",
            "1    6\n",
            "2    5\n",
            "3    6\n",
            "4    6\n",
            "Name: month, dtype: int64\n"
          ]
        },
        {
          "output_type": "execute_result",
          "data": {
            "text/plain": [
              "(array([14528.,  5131.,  2113.,  3210.,  3465.,  3451.,  3495.,  3516.,\n",
              "         1392.,  2136.]),\n",
              " array([ 1. ,  2.1,  3.2,  4.3,  5.4,  6.5,  7.6,  8.7,  9.8, 10.9, 12. ]),\n",
              " <BarContainer object of 10 artists>)"
            ]
          },
          "metadata": {},
          "execution_count": 12
        },
        {
          "output_type": "display_data",
          "data": {
            "text/plain": [
              "<Figure size 640x480 with 1 Axes>"
            ],
            "image/png": "[encoded data removed]"
          },
          "metadata": {}
        }
      ]
    },
    {
      "cell_type": "markdown",
      "source": [
        "### 1(b): Sample statistics on the overall dataset"
      ],
      "metadata": {
        "id": "tDi8q8YWlTWl"
      }
    },
    {
      "cell_type": "code",
      "source": [
        "number_crashes_per_month = df1[\"month\"].value_counts()\n",
        "mean_value = number_crashes_per_month.mean()\n",
        "median_value = number_crashes_per_month.median()\n",
        "quartiles = number_crashes_per_month.quantile([0.25, 0.5, 0.75])\n",
        "std_deviation = number_crashes_per_month.std()\n",
        "\n",
        "# Display the results\n",
        "print(\"Mean:\", mean_value)\n",
        "print(\"Median:\", median_value)\n",
        "print(\"Quartiles:\")\n",
        "print(quartiles)\n",
        "print(\"Standard Deviation:\", std_deviation)"
      ],
      "metadata": {
        "id": "HLe2gWihIMnM",
        "colab": {
          "base_uri": "https://localhost:8080/"
        },
        "outputId": "d29cf8a6-26b4-44a7-b5a7-d060f984f751"
      },
      "execution_count": 13,
      "outputs": [
        {
          "output_type": "stream",
          "name": "stdout",
          "text": [
            "Mean: 3536.4166666666665\n",
            "Median: 3458.0\n",
            "Quartiles:\n",
            "0.25    1932.75\n",
            "0.50    3458.00\n",
            "0.75    3919.75\n",
            "Name: month, dtype: float64\n",
            "Standard Deviation: 2117.4722691468855\n"
          ]
        }
      ]
    },
    {
      "cell_type": "markdown",
      "source": [
        "### 1(c): Histograms of overall number of crashes per month by county."
      ],
      "metadata": {
        "id": "csQMs8o7aciu"
      }
    },
    {
      "cell_type": "markdown",
      "source": [
        "1(c.1): Histogram for Miami-Dade County."
      ],
      "metadata": {
        "id": "HuEmhT84ag-n"
      }
    },
    {
      "cell_type": "code",
      "source": [
        "df_mdc = df1[df1['COUNTY_TXT']== \"MIAMI-DADE\"]\n",
        "plt.hist(df_mdc[\"month\"])\n",
        "plt.ylabel(\"Number of crashes\")\n",
        "plt.xlabel(\"Miami-Dade County\")"
      ],
      "metadata": {
        "id": "fQ78J8w6asbC",
        "colab": {
          "base_uri": "https://localhost:8080/",
          "height": 466
        },
        "outputId": "7bacfa3f-3c11-4e41-8414-f43eadf1b92b"
      },
      "execution_count": 14,
      "outputs": [
        {
          "output_type": "execute_result",
          "data": {
            "text/plain": [
              "Text(0.5, 0, 'Miami-Dade County')"
            ]
          },
          "metadata": {},
          "execution_count": 14
        },
        {
          "output_type": "display_data",
          "data": {
            "text/plain": [
              "<Figure size 640x480 with 1 Axes>"
            ],
            "image/png": "[encoded data removed]"
          },
          "metadata": {}
        }
      ]
    },
    {
      "cell_type": "markdown",
      "source": [
        "1(c.2): Histogram for Broward County."
      ],
      "metadata": {
        "id": "oufyaTKKas8G"
      }
    },
    {
      "cell_type": "code",
      "source": [
        "df_mb = df1[df1['COUNTY_TXT']== \"BROWARD\"]\n",
        "plt.hist(df_mb[\"month\"])\n",
        "plt.ylabel(\"Number of crashes\")\n",
        "plt.xlabel(\"Broward County\")"
      ],
      "metadata": {
        "id": "vTXDrFcGa1w1",
        "colab": {
          "base_uri": "https://localhost:8080/",
          "height": 466
        },
        "outputId": "816f5231-766c-4486-f5d9-a43e49b5724c"
      },
      "execution_count": 17,
      "outputs": [
        {
          "output_type": "execute_result",
          "data": {
            "text/plain": [
              "Text(0.5, 0, 'Broward County')"
            ]
          },
          "metadata": {},
          "execution_count": 17
        },
        {
          "output_type": "display_data",
          "data": {
            "text/plain": [
              "<Figure size 640x480 with 1 Axes>"
            ],
            "image/png": "[encoded data removed]"
          },
          "metadata": {}
        }
      ]
    },
    {
      "cell_type": "markdown",
      "source": [
        "1(c.3): Histogram for Palm Beach County."
      ],
      "metadata": {
        "id": "ZOYv4VCOa2Dt"
      }
    },
    {
      "cell_type": "code",
      "source": [
        "df_mpb = df1[df1['COUNTY_TXT']== \"PALM BEACH\"]\n",
        "plt.hist(df_mpb[\"month\"])\n",
        "plt.ylabel(\"Number of crashes\")\n",
        "plt.xlabel(\"Palm BeachCounty\")"
      ],
      "metadata": {
        "id": "H4AOQLyka6qQ",
        "colab": {
          "base_uri": "https://localhost:8080/",
          "height": 466
        },
        "outputId": "575298dd-8c37-4209-fa6d-a8aefb4e69b5"
      },
      "execution_count": 18,
      "outputs": [
        {
          "output_type": "execute_result",
          "data": {
            "text/plain": [
              "Text(0.5, 0, 'Palm BeachCounty')"
            ]
          },
          "metadata": {},
          "execution_count": 18
        },
        {
          "output_type": "display_data",
          "data": {
            "text/plain": [
              "<Figure size 640x480 with 1 Axes>"
            ],
            "image/png": "[encoded data removed]"
          },
          "metadata": {}
        }
      ]
    },
    {
      "cell_type": "markdown",
      "source": [],
      "metadata": {
        "id": "-5xkPybdSk07"
      }
    },
    {
      "cell_type": "markdown",
      "source": [
        "### 1(d): Sample statistics by county"
      ],
      "metadata": {
        "id": "hTzgh3nqVWVv"
      }
    },
    {
      "cell_type": "markdown",
      "source": [
        "1(d.1): Sample statistics for Miami-Dade County:"
      ],
      "metadata": {
        "id": "sbuqaZBjkHye"
      }
    },
    {
      "cell_type": "code",
      "source": [
        "number_crashes_per_month_MD = df_mdc[\"month\"].value_counts()\n",
        "mean_value_MD = number_crashes_per_month_MD.mean()\n",
        "median_value_MD = number_crashes_per_month_MD.median()\n",
        "quartiles_MD = number_crashes_per_month_MD.quantile([0.25, 0.5, 0.75])\n",
        "std_deviation_MD = number_crashes_per_month_MD.std()\n",
        "\n",
        "# Display the results\n",
        "print(\"Mean:\", mean_value_MD)\n",
        "print(\"Median:\", median_value_MD)\n",
        "print(\"Quartiles:\")\n",
        "print(quartiles_MD)\n",
        "print(\"Standard Deviation:\", std_deviation_MD)\n"
      ],
      "metadata": {
        "id": "YJXmyYBVkrlf",
        "colab": {
          "base_uri": "https://localhost:8080/"
        },
        "outputId": "d709878d-6006-41fb-f44d-d11afc345ec5"
      },
      "execution_count": 19,
      "outputs": [
        {
          "output_type": "stream",
          "name": "stdout",
          "text": [
            "Mean: 2318.0833333333335\n",
            "Median: 2616.0\n",
            "Quartiles:\n",
            "0.25    1367.50\n",
            "0.50    2616.00\n",
            "0.75    2860.75\n",
            "Name: month, dtype: float64\n",
            "Standard Deviation: 1394.0173116398216\n"
          ]
        }
      ]
    },
    {
      "cell_type": "markdown",
      "source": [
        "1(d.2): Sample statistics for Broward County:"
      ],
      "metadata": {
        "id": "_M5spwjUljE8"
      }
    },
    {
      "cell_type": "code",
      "source": [
        "number_crashes_per_month_BC = df_mb[\"month\"].value_counts()\n",
        "mean_value_BC = number_crashes_per_month_BC.mean()\n",
        "median_value_BC = number_crashes_per_month_BC.median()\n",
        "quartiles_BC = number_crashes_per_month_BC.quantile([0.25, 0.5, 0.75])\n",
        "std_deviation_BC = number_crashes_per_month_BC.std()\n",
        "\n",
        "# Display the results\n",
        "print(\"Mean:\", mean_value_BC)\n",
        "print(\"Median:\", median_value_BC)\n",
        "print(\"Quartiles:\")\n",
        "print(quartiles_BC)\n",
        "print(\"Standard Deviation:\", std_deviation_BC)\n"
      ],
      "metadata": {
        "id": "B7cBVKjPkGLi",
        "colab": {
          "base_uri": "https://localhost:8080/"
        },
        "outputId": "2ab68fd9-0e63-48a6-b326-1b990b8f2584"
      },
      "execution_count": 20,
      "outputs": [
        {
          "output_type": "stream",
          "name": "stdout",
          "text": [
            "Mean: 852.8333333333334\n",
            "Median: 477.0\n",
            "Quartiles:\n",
            "0.25    425.0\n",
            "0.50    477.0\n",
            "0.75    845.5\n",
            "Name: month, dtype: float64\n",
            "Standard Deviation: 765.2278131776222\n"
          ]
        }
      ]
    },
    {
      "cell_type": "markdown",
      "source": [
        "1(d.3): Sample statistics for Palm Beach County:"
      ],
      "metadata": {
        "id": "M0QJcKUdler9"
      }
    },
    {
      "cell_type": "code",
      "source": [
        "number_crashes_per_month_MD = df_mpb[\"month\"].value_counts()\n",
        "mean_value_MD = number_crashes_per_month_MD.mean()\n",
        "median_value_MD = number_crashes_per_month_MD.median()\n",
        "quartiles_MD = number_crashes_per_month_MD.quantile([0.25, 0.5, 0.75])\n",
        "std_deviation_MD = number_crashes_per_month_MD.std()\n",
        "\n",
        "# Display the results\n",
        "print(\"Mean:\", mean_value_MD)\n",
        "print(\"Median:\", median_value_MD)\n",
        "print(\"Quartiles:\")\n",
        "print(quartiles_MD)\n",
        "print(\"Standard Deviation:\", std_deviation_MD)"
      ],
      "metadata": {
        "id": "lELUEZDglovR",
        "colab": {
          "base_uri": "https://localhost:8080/"
        },
        "outputId": "d072eda3-b88d-4101-91e4-3b45848b00af"
      },
      "execution_count": 21,
      "outputs": [
        {
          "output_type": "stream",
          "name": "stdout",
          "text": [
            "Mean: 365.5\n",
            "Median: 324.0\n",
            "Quartiles:\n",
            "0.25    295.50\n",
            "0.50    324.00\n",
            "0.75    344.25\n",
            "Name: month, dtype: float64\n",
            "Standard Deviation: 196.55602948592733\n"
          ]
        }
      ]
    },
    {
      "cell_type": "markdown",
      "source": [
        "### 1(e): Findings"
      ],
      "metadata": {
        "id": "eQsqyvZobB6t"
      }
    },
    {
      "cell_type": "markdown",
      "source": [
        "From the 3 histograms that have been plotted, it is observed that the populations have a right skewed distribution. The summary statistics reveal that Miami Dade County has the highest mean number of crashes per month."
      ],
      "metadata": {
        "id": "AAuXtY7XbKGC"
      }
    },
    {
      "cell_type": "markdown",
      "source": [
        "# Question 2"
      ],
      "metadata": {
        "id": "w2Qmy30Bk-Im"
      }
    },
    {
      "cell_type": "markdown",
      "source": [
        "Our dataset also includes fields for injury severity level, speeding indication, and an aggressive driving indicator.\n",
        "\n",
        "For this question we are going to investigate the relationship between the factors of whether somebody was speeding, driving agressively, or neither and the injury severity level for those crashes. To investigate and report our findings we will create a scatterplot comparing the crashes where drivers were speeding, where agressive driving was involved, and where neither were involved.We will then calculate sample statistics of the number of seriosuly injured people for each of the three factors.\n",
        "\n",
        "> Note: We will have to check the [Fields & Codes](https://gis.fdot.gov/ssogis/docs/MapCodeTableDefinitions.xlsx) file to check what our numbers in the injury severity column correspond to.\n",
        "\n",
        "```\n",
        "Fields:\n",
        "  - Injury Severity Level (INJSEVER)\n",
        "  - Speeding Indicator (SPEEDING_IND)\n",
        "  - Agressive Driving Indicator (AGGRESSIVE_DRIVING_IND)\n",
        "  - Speeding or Agressive Driving Indicator (SPEEDING_AGGRESSIVE_IND)\n",
        "  - Number of Seriously Injured (NUMBER_OF_SERIOUS_INJURIES)\n",
        "```\n",
        "2(a): Create a bar chart that compares injury severity levels for the three crash factors: speeding involved, aggressive driving involved, no speeding or agressive driving involved. (All three factors should be represented on the same scatterplot)\n",
        "\n",
        "2(b): Calculate the mean, median, mode, and range for each of the three factors.\n",
        "\n",
        "2(c): Report your findings based on the bar chart. How do these factors appear to affect the injury severity level of the crashes? Are these findings supported by your sample statistics?"
      ],
      "metadata": {
        "id": "RRIGo3AVKXYT"
      }
    },
    {
      "cell_type": "markdown",
      "source": [
        "## Answers & Code"
      ],
      "metadata": {
        "id": "uMxwB80vWAls"
      }
    },
    {
      "cell_type": "markdown",
      "source": [
        "### 2(a): Scatterplot for injury severity and related factors"
      ],
      "metadata": {
        "id": "xtJ__et7S9np"
      }
    },
    {
      "cell_type": "code",
      "source": [
        "plt.scatter(df1[\"SPEEDING_IND\"], df1[\"INJSEVER\"], label='Speeding Involved')\n",
        "\n",
        "# Scatter plot for Aggressive Driving Involved with a small y-offset\n",
        "plt.scatter(df1[\"AGGRESSIVE_DRIVING_IND\"], np.array(df1[\"INJSEVER\"]) + 0.1, label='Aggressive Driving Involved')\n",
        "\n",
        "# Scatter plot for No Speeding or Aggressive Driving Involved with a small y-offset\n",
        "plt.scatter(df1[\"SPEEDING_AGGRESSIVE_IND\"], np.array(df1[\"INJSEVER\"]) + 0.2, label='No Speeding or Aggressive Driving Involved')\n",
        "\n",
        "# Adding labels and title\n",
        "plt.ylabel('Injury Severity Level')\n",
        "plt.title('')\n",
        "\n",
        "# Adding legend\n",
        "plt.legend()\n",
        "\n",
        "# Show the plot\n",
        "plt.show()"
      ],
      "metadata": {
        "id": "ikEJAG1D3YVL",
        "colab": {
          "base_uri": "https://localhost:8080/",
          "height": 430
        },
        "outputId": "7b4e7c86-7f44-4b8e-8d4e-2f1a69d5c3f2"
      },
      "execution_count": 22,
      "outputs": [
        {
          "output_type": "display_data",
          "data": {
            "text/plain": [
              "<Figure size 640x480 with 1 Axes>"
            ],
            "image/png": "[encoded data removed]"
          },
          "metadata": {}
        }
      ]
    },
    {
      "cell_type": "markdown",
      "source": [
        "### 2(b): Sample statistics for each group"
      ],
      "metadata": {
        "id": "cJSvm0AgLzzg"
      }
    },
    {
      "cell_type": "markdown",
      "source": [
        "2(b.1): Sample statistics for the number of seriously injured where speeding was involved."
      ],
      "metadata": {
        "id": "CvhkJPqbL9jh"
      }
    },
    {
      "cell_type": "code",
      "source": [
        "dfspeed = df1[df1[\"SPEEDING_IND\"] == \"Y\"]\n",
        "number_serious_injured = dfspeed[\"INJSEVER\"].value_counts()\n",
        "# list_number_serious_injured = number_serious_injured.tolist()\n",
        "\n",
        "mean_injsever = number_serious_injured.mean()\n",
        "median_injsever = number_serious_injured.median()\n",
        "mode_injsever = number_serious_injured.mode().tolist()\n",
        "range_injsever = number_serious_injured.max() - number_serious_injured.min()\n",
        "\n",
        "print(\"Mean:\", mean_injsever)\n",
        "print(\"Median:\", median_injsever)\n",
        "print(\"Mode:\", mode_injsever)\n",
        "print(\"Range:\", range_injsever)\n",
        "\n"
      ],
      "metadata": {
        "id": "pRHnbf1DMOjZ",
        "colab": {
          "base_uri": "https://localhost:8080/"
        },
        "outputId": "e0cad45d-98e4-4d69-b77e-ca6b228b720e"
      },
      "execution_count": 23,
      "outputs": [
        {
          "output_type": "stream",
          "name": "stdout",
          "text": [
            "Mean: 140.14285714285714\n",
            "Median: 65.0\n",
            "Mode: [1, 2, 29, 65, 115, 186, 583]\n",
            "Range: 582\n"
          ]
        }
      ]
    },
    {
      "cell_type": "markdown",
      "source": [
        "2(b.2): Sample statistics for the number of serious injuries where aggressive driving was involved."
      ],
      "metadata": {
        "id": "JLMqmd3TMPCV"
      }
    },
    {
      "cell_type": "code",
      "source": [
        "dfspeed2 = df1[df1[\"AGGRESSIVE_DRIVING_IND\"] == \"Y\"]\n",
        "number_serious_injured = dfspeed2[\"INJSEVER\"].value_counts()\n",
        "\n",
        "mean_injsever = number_serious_injured.mean()\n",
        "median_injsever = number_serious_injured.median()\n",
        "mode_injsever = number_serious_injured.mode().tolist()\n",
        "range_injsever = number_serious_injured.max() - number_serious_injured.min()\n",
        "\n",
        "print(\"Mean:\", mean_injsever)\n",
        "print(\"Median:\", median_injsever)\n",
        "print(\"Mode:\", mode_injsever)\n",
        "print(\"Range:\", range_injsever)\n",
        "\n"
      ],
      "metadata": {
        "id": "X6uEScxbMVnm",
        "colab": {
          "base_uri": "https://localhost:8080/"
        },
        "outputId": "e9587c20-a816-409e-f0b7-4eb86a14bbce"
      },
      "execution_count": 24,
      "outputs": [
        {
          "output_type": "stream",
          "name": "stdout",
          "text": [
            "Mean: 109.71428571428571\n",
            "Median: 68.0\n",
            "Mode: [1]\n",
            "Range: 419\n"
          ]
        }
      ]
    },
    {
      "cell_type": "markdown",
      "source": [
        "2(b.3): Sample statistics for the number of seriously injured where neither speeding nor aggressive driving was involved."
      ],
      "metadata": {
        "id": "3rbfqes9MWxM"
      }
    },
    {
      "cell_type": "code",
      "source": [
        "dfspeed3 = df1[df1[\"SPEEDING_AGGRESSIVE_IND\"] == \"N\"]\n",
        "number_serious_injured = dfspeed3[\"INJSEVER\"].value_counts()\n",
        "\n",
        "mean_injsever = number_serious_injured.mean()\n",
        "median_injsever = number_serious_injured.median()\n",
        "mode_injsever = number_serious_injured.mode().tolist()\n",
        "range_injsever = number_serious_injured.max() - number_serious_injured.min()\n",
        "\n",
        "print(\"Mean:\", mean_injsever)\n",
        "print(\"Median:\", median_injsever)\n",
        "print(\"Mode:\", mode_injsever)\n",
        "print(\"Range:\", range_injsever)\n",
        "\n"
      ],
      "metadata": {
        "id": "_NLcO4mBMfwX",
        "colab": {
          "base_uri": "https://localhost:8080/"
        },
        "outputId": "c343beb0-1624-495b-ff23-24302397cda3"
      },
      "execution_count": 25,
      "outputs": [
        {
          "output_type": "stream",
          "name": "stdout",
          "text": [
            "Mean: 5841.285714285715\n",
            "Median: 1341.0\n",
            "Mode: [28, 399, 506, 1341, 3273, 6430, 28912]\n",
            "Range: 28884\n"
          ]
        }
      ]
    },
    {
      "cell_type": "markdown",
      "source": [
        "### 2(c): Findings"
      ],
      "metadata": {
        "id": "0HzBsFSYWkpG"
      }
    },
    {
      "cell_type": "markdown",
      "source": [
        "More injuries are recorded when there are high speeding of vehicles."
      ],
      "metadata": {
        "id": "G2gGRN4bWsak"
      }
    },
    {
      "cell_type": "markdown",
      "source": [
        "# Extra Credit"
      ],
      "metadata": {
        "id": "2jbXHFd3d_U2"
      }
    },
    {
      "cell_type": "markdown",
      "source": [
        "In the previous question, we investigated the differences between the sample statistics of the number of seriously injured in crashes where speeding, aggressive driving, or neither were involved. In this extra credit question, we will investigate three more factors using sample statistics and box plots.\n",
        "\n",
        "```\n",
        "Factors:\n",
        "  - Number of Seriously Injured (NUMBER_OF_SERIOUS_INJURIES)\n",
        "  - Seatbelt Indicator (NO_BELT_IND)\n",
        "  - Impaired Driver Indicator (IMPAIRED_DRIVER_IND)\n",
        "  - Distracted Driver Indicator (DISTRACTED_DRIVER_IND)\n",
        "```\n",
        "\n",
        "1. Calculate the five-point summaries for the number of serious injuries per each designation (Y/N) in the groups.\n",
        "\n",
        "  (a) Seatbelt Indicator\n",
        "\n",
        "  (b) Impaired Driver Indicator\n",
        "\n",
        "  (c) Distracted Driver Indicator\n",
        "\n",
        "2. Make side-by-side boxplots comparing the sample statistics of each designation (Y/N) in the groups.\n",
        "\n",
        "  (a) Seatbelt Indicator\n",
        "\n",
        "  (b) Impaired Driver Indicator\n",
        "  \n",
        "  (c) Distracted Driver Indicator\n",
        "\n",
        "3. State your findings on whether the designations indicate any change in the number of seriosuly injured in each group.\n",
        "\n",
        "  (a) Seatbelt Indicator\n",
        "\n",
        "  (b) Impaired Driver Indicator\n",
        "  \n",
        "  (c) Distracted Driver Indicator\n"
      ],
      "metadata": {
        "id": "nFhF8bB4eTC0"
      }
    },
    {
      "cell_type": "markdown",
      "source": [
        "## Answers & Code"
      ],
      "metadata": {
        "id": "3jziQ65aTf6_"
      }
    },
    {
      "cell_type": "markdown",
      "source": [
        "### **Seatbelt Indicator**"
      ],
      "metadata": {
        "id": "u6ayYJW6XO2c"
      }
    },
    {
      "cell_type": "markdown",
      "source": [
        "#### 1(a): Seatbelt indicator five-point summaries\n",
        "\n",
        "\n",
        "---\n",
        "\n"
      ],
      "metadata": {
        "id": "9p_amo7cTm6H"
      }
    },
    {
      "cell_type": "markdown",
      "source": [
        "1(a.1): Seatbelt designation - Yes"
      ],
      "metadata": {
        "id": "bEwEa6u0UIZy"
      }
    },
    {
      "cell_type": "code",
      "source": [],
      "metadata": {
        "id": "2enRlg9JTmVf"
      },
      "execution_count": null,
      "outputs": []
    },
    {
      "cell_type": "markdown",
      "source": [
        "1(a.2): Seatbelt designation - No"
      ],
      "metadata": {
        "id": "ZYwesXHEUO_D"
      }
    },
    {
      "cell_type": "code",
      "source": [],
      "metadata": {
        "id": "WF3VGIBCUR6J"
      },
      "execution_count": null,
      "outputs": []
    },
    {
      "cell_type": "markdown",
      "source": [
        "#### 2(a): Seatbelt indicator boxplots"
      ],
      "metadata": {
        "id": "UJziYwq_UVUw"
      }
    },
    {
      "cell_type": "code",
      "source": [],
      "metadata": {
        "id": "LK_aFYKrUkrQ"
      },
      "execution_count": null,
      "outputs": []
    },
    {
      "cell_type": "markdown",
      "source": [
        "#### 3(a): Findings"
      ],
      "metadata": {
        "id": "jvXDtv8jWwiu"
      }
    },
    {
      "cell_type": "markdown",
      "source": [
        "> Write your findings here"
      ],
      "metadata": {
        "id": "lNZUFkybWwjK"
      }
    },
    {
      "cell_type": "markdown",
      "source": [
        "### **Impaired Driver Indicator**"
      ],
      "metadata": {
        "id": "WRqhI6CQXnhs"
      }
    },
    {
      "cell_type": "markdown",
      "source": [
        "#### 1(b): Impaired driver indicator five-point summaries\n",
        "\n",
        "\n",
        "---\n",
        "\n"
      ],
      "metadata": {
        "id": "ZSfJrm_wVcHB"
      }
    },
    {
      "cell_type": "markdown",
      "source": [
        "1(b.1): Impaired driver designation - Yes"
      ],
      "metadata": {
        "id": "3VsxBVr-VcHC"
      }
    },
    {
      "cell_type": "code",
      "source": [],
      "metadata": {
        "id": "WvRp0_U8VcHE"
      },
      "execution_count": null,
      "outputs": []
    },
    {
      "cell_type": "markdown",
      "source": [
        "1(b.2): Impaired driver designation - No"
      ],
      "metadata": {
        "id": "7WeG3QY3VcHF"
      }
    },
    {
      "cell_type": "code",
      "source": [],
      "metadata": {
        "id": "dGVT92lkVcHF"
      },
      "execution_count": null,
      "outputs": []
    },
    {
      "cell_type": "markdown",
      "source": [
        "#### 2(b): Impaired driver indicator boxplots"
      ],
      "metadata": {
        "id": "T_4BQofmVcHF"
      }
    },
    {
      "cell_type": "code",
      "source": [],
      "metadata": {
        "id": "BUOJ4YsOVcHF"
      },
      "execution_count": null,
      "outputs": []
    },
    {
      "cell_type": "markdown",
      "source": [
        "#### 3(b): Findings\n",
        "\n",
        "\n"
      ],
      "metadata": {
        "id": "YKKgFtCJW2zF"
      }
    },
    {
      "cell_type": "markdown",
      "source": [
        "> Write your findings here"
      ],
      "metadata": {
        "id": "ahrLmhRbW2zi"
      }
    },
    {
      "cell_type": "markdown",
      "source": [
        "### **Distracted Driver Indicator**"
      ],
      "metadata": {
        "id": "IeAQGeA3X5Az"
      }
    },
    {
      "cell_type": "markdown",
      "source": [
        "#### 1(c): Distracted driver indicator five-point summaries\n",
        "\n",
        "\n",
        "---\n",
        "\n"
      ],
      "metadata": {
        "id": "03SnHFeUV0If"
      }
    },
    {
      "cell_type": "markdown",
      "source": [
        "1(c.1): Distracted driver driver designation - Yes"
      ],
      "metadata": {
        "id": "ckVEfY3LV0I9"
      }
    },
    {
      "cell_type": "code",
      "source": [],
      "metadata": {
        "id": "ciQb9jxGV0I9"
      },
      "execution_count": null,
      "outputs": []
    },
    {
      "cell_type": "markdown",
      "source": [
        "1(c.2): Distracted driver driver designation - No"
      ],
      "metadata": {
        "id": "VpYoKZkoV0I9"
      }
    },
    {
      "cell_type": "code",
      "source": [],
      "metadata": {
        "id": "nifyGb_jYG-T"
      },
      "execution_count": null,
      "outputs": []
    },
    {
      "cell_type": "code",
      "source": [],
      "metadata": {
        "id": "NlkbMOM1V0I9"
      },
      "execution_count": null,
      "outputs": []
    },
    {
      "cell_type": "markdown",
      "source": [
        "#### 2(c): Distracted driver driver indicator boxplots"
      ],
      "metadata": {
        "id": "atngtVp5V0I9"
      }
    },
    {
      "cell_type": "code",
      "source": [],
      "metadata": {
        "id": "sX5zZ-YKV0I9"
      },
      "execution_count": null,
      "outputs": []
    },
    {
      "cell_type": "markdown",
      "source": [
        "#### 3(c): Findings"
      ],
      "metadata": {
        "id": "HqWIDutuYHwD"
      }
    },
    {
      "cell_type": "markdown",
      "source": [
        "> Write your findings here"
      ],
      "metadata": {
        "id": "tE5EfYWqYHwE"
      }
    }
  ]
}